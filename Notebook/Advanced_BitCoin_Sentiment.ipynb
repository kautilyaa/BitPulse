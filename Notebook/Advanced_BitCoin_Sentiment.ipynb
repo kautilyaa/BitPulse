{
 "cells": [
  {
   "cell_type": "markdown",
   "id": "fee18650-7906-4dbb-9f79-0f724ce205aa",
   "metadata": {},
   "source": [
    "# Bitcoin Sentiment Analysis\n",
    "This notebook performs real-time Bitcoin sentiment analysis using news data and price information.\n",
    "\n",
    "## Setup and Dependencies"
   ]
  },
  {
   "cell_type": "markdown",
   "id": "1226fe05-8deb-4ce2-b7c6-b6882c5ae0fd",
   "metadata": {},
   "source": [
    "## Initialize API Clients"
   ]
  },
  {
   "cell_type": "code",
   "execution_count": null,
   "id": "ee5a6eb6-ec25-4023-a41b-4faf67ae24f3",
   "metadata": {},
   "outputs": [],
   "source": [
    "from src.common import NEWS_API_KEY, RELEVANT_SOURCES, newsapi, coingecko"
   ]
  },
  {
   "cell_type": "code",
   "execution_count": 3,
   "id": "63d4dd08",
   "metadata": {},
   "outputs": [],
   "source": [
    "from src.fetch_data import fetch_bitcoin_news, fetch_bitcoin_prices\n",
    "from src.data_saver import save_data, load_data, format_sentiment_score#, get_sentiment_color \n",
    "\n",
    "\n",
    "\n",
    "from src.utils_analyzer import analyze_sentiment, aggregate_sentiment, prepare_time_series_data, run_forecast, compare_historical_sentiment"
   ]
  },
  {
   "cell_type": "code",
   "execution_count": 4,
   "id": "ead433f0",
   "metadata": {},
   "outputs": [],
   "source": [
    "import pandas as pd\n",
    "import matplotlib.pyplot as plt\n",
    "import seaborn as sns\n",
    "from datetime import datetime, timedelta\n",
    "\n",
    "use_cached_data = True  # Set to False to fetch fresh data\n",
    "\n",
    "# Date range\n",
    "end_date = datetime.now().date()\n",
    "start_date = end_date - timedelta(days=29)\n",
    "start_date_str = start_date.strftime('%Y-%m-%d')\n",
    "end_date_str = end_date.strftime('%Y-%m-%d')"
   ]
  },
  {
   "cell_type": "code",
   "execution_count": null,
   "id": "00ea425b",
   "metadata": {},
   "outputs": [],
   "source": [
    "# === 1. Fetch and Process News Articles ===\n",
    "if use_cached_data:\n",
    "    print(\"Loading cached news articles and sentiment data...\")\n",
    "    articles = load_data(\"articles_data.csv\")\n",
    "    aggregated_sentiment = load_data(\"aggregated_sentiment.csv\")\n",
    "else:\n",
    "    print(\"Fetching Bitcoin-related news...\")\n",
    "    new_articles_fetch = fetch_bitcoin_news(start_date_str, end_date_str, refresh=True)\n",
    "    new_articles = analyze_sentiment(new_articles_fetch)\n",
    "\n",
    "    # Load old data and merge\n",
    "    old_articles = load_data(\"articles_data.csv\")\n",
    "    if old_articles is not None:\n",
    "        articles = pd.concat([old_articles, new_articles], ignore_index=True)\n",
    "        # articles = articles.drop_duplicates(subset=['url'])\n",
    "        \n",
    "    else:\n",
    "        articles = new_articles\n",
    "\n",
    "    # Aggregate sentiment\n",
    "    aggregated_sentiment = aggregate_sentiment(articles)\n",
    "\n",
    "    # Save updated versions\n",
    "    save_data(articles, \"articles_data.csv\")\n",
    "    save_data(aggregated_sentiment, \"aggregated_sentiment.csv\")\n"
   ]
  },
  {
   "cell_type": "code",
   "execution_count": null,
   "id": "b2e59772",
   "metadata": {},
   "outputs": [],
   "source": [
    "\n",
    "# === 2. Fetch and Process Bitcoin Prices ===\n",
    "if use_cached_data:\n",
    "    print(\"Loading cached Bitcoin price data...\")\n",
    "    price_data = load_data(\"price_data.csv\")\n",
    "else:\n",
    "    print(\"Fetching Bitcoin price data...\")\n",
    "    new_prices = fetch_bitcoin_prices(start_date_str, end_date_str, refresh=True)\n",
    "\n",
    "    # Load old data and merge\n",
    "    old_prices = load_data(\"price_data.csv\")\n",
    "    if old_prices is not None:\n",
    "        price_data = pd.concat([old_prices, new_prices], ignore_index=True)\n",
    "        price_data = price_data.drop_duplicates(subset=['date'])\n",
    "    else:\n",
    "        price_data = new_prices\n",
    "\n",
    "    save_data(price_data, \"price_data.csv\")"
   ]
  },
  {
   "cell_type": "code",
   "execution_count": null,
   "id": "e0d76041",
   "metadata": {},
   "outputs": [],
   "source": [
    "# === 3. Prepare Time Series ===\n",
    "print(\"Merging sentiment and price data...\")\n",
    "merged_data = prepare_time_series_data(aggregated_sentiment, price_data)\n",
    "# merged_data['price_diff'] = merged_data['close_price'].diff().dropna()\n",
    "if merged_data is not None:\n",
    "    merged_data = merged_data.drop_duplicates()\n",
    "# merged_data"
   ]
  },
  {
   "cell_type": "code",
   "execution_count": null,
   "id": "a0511f76",
   "metadata": {},
   "outputs": [],
   "source": [
    "\n",
    "\n",
    "\n",
    "\n",
    "\n",
    "\n",
    "# === 4. Run Forecast ===\n",
    "print(\"Running forecast...\")\n",
    "forecast_results, future_forecast = run_forecast(merged_data)\n",
    "\n",
    "# === 5. Visualization with Matplotlib / Seaborn ===\n",
    "def plot_sentiment_trends(sentiment_df):\n",
    "    fig, ax = plt.subplots(figsize=(12, 4))\n",
    "    sns.lineplot(data=sentiment_df, x='date', y='avg_polarity', ax=ax)\n",
    "    ax.set_title(\"Average Sentiment Polarity Over Time\")\n",
    "    ax.set_ylabel(\"Polarity\")\n",
    "    ax.set_xlabel(\"Date\")\n",
    "    plt.xticks(rotation=45)\n",
    "    plt.tight_layout()\n",
    "    plt.show()\n",
    "\n",
    "def plot_price_trends(price_df):\n",
    "    fig, ax = plt.subplots(figsize=(12, 4))\n",
    "    sns.lineplot(data=price_df, x='date', y='close_price', ax=ax)\n",
    "    ax.set_title(\"Bitcoin Close Price Over Time\")\n",
    "    ax.set_ylabel(\"Price (USD)\")\n",
    "    ax.set_xlabel(\"Date\")\n",
    "    plt.xticks(rotation=45)\n",
    "    plt.tight_layout()\n",
    "    plt.show()\n",
    "\n",
    "def plot_price_vs_sentiment(merged_df):\n",
    "    fig, ax = plt.subplots(figsize=(8, 5))\n",
    "    sns.scatterplot(data=merged_df, x='avg_polarity', y='price', ax=ax)\n",
    "    sns.regplot(data=merged_df, x='avg_polarity', y='price', scatter=False, ax=ax, color='red')\n",
    "    ax.set_title(\"Bitcoin Price vs Sentiment Polarity\")\n",
    "    ax.set_ylabel(\"Price (USD)\")\n",
    "    ax.set_xlabel(\"Sentiment Polarity\")\n",
    "    plt.tight_layout()\n",
    "    plt.show()\n",
    "\n",
    "def plot_forecast(forecast_df):\n",
    "    fig, ax = plt.subplots(figsize=(12, 5))\n",
    "    ax.plot(forecast_df['date'], forecast_df['actual_price'], label='Actual', color='blue')\n",
    "    ax.plot(forecast_df['date'], forecast_df['predicted_price'], label='Forecast', linestyle='--', color='orange')\n",
    "    ax.fill_between(\n",
    "        forecast_df['date'],\n",
    "        forecast_df['lower_ci'],\n",
    "        forecast_df['upper_ci'],\n",
    "        color='orange',\n",
    "        alpha=0.2,\n",
    "        label='95% CI'\n",
    "    )\n",
    "    ax.set_title(\"Forecast vs Actual Bitcoin Price\")\n",
    "    ax.set_xlabel(\"Date\")\n",
    "    ax.set_ylabel(\"Price (USD)\")\n",
    "    ax.legend()\n",
    "    plt.xticks(rotation=45)\n",
    "    plt.tight_layout()\n",
    "    plt.show()\n",
    "\n",
    "def plot_future_forecast(future_forecast):\n",
    "    plt.figure(figsize=(10, 5))\n",
    "    plt.plot(future_forecast['date'], future_forecast['predicted_price'], marker='o', label='Predicted Price')\n",
    "    plt.title('7-Day Bitcoin Price Forecast')\n",
    "    plt.xlabel('Date')\n",
    "    plt.ylabel('Predicted Price (USD)')\n",
    "    plt.xticks(rotation=45)\n",
    "    plt.grid(True)\n",
    "    plt.legend()\n",
    "    plt.tight_layout()\n",
    "    plt.show()\n",
    "\n",
    "# Run visualizations\n",
    "\n",
    "\n"
   ]
  },
  {
   "cell_type": "code",
   "execution_count": null,
   "id": "afaaf365",
   "metadata": {},
   "outputs": [],
   "source": [
    "future_forecast"
   ]
  },
  {
   "cell_type": "code",
   "execution_count": null,
   "id": "58625ddd",
   "metadata": {},
   "outputs": [],
   "source": [
    "forecast_results"
   ]
  },
  {
   "cell_type": "code",
   "execution_count": null,
   "id": "f4b7ee92",
   "metadata": {},
   "outputs": [],
   "source": [
    "plot_sentiment_trends(aggregated_sentiment)\n"
   ]
  },
  {
   "cell_type": "code",
   "execution_count": null,
   "id": "f6a65315",
   "metadata": {},
   "outputs": [],
   "source": [
    "plot_price_trends(price_data)\n"
   ]
  },
  {
   "cell_type": "code",
   "execution_count": null,
   "id": "e3e33fd6",
   "metadata": {},
   "outputs": [],
   "source": [
    "plot_price_vs_sentiment(merged_data)\n"
   ]
  },
  {
   "cell_type": "code",
   "execution_count": null,
   "id": "67a2f65a",
   "metadata": {},
   "outputs": [],
   "source": [
    "plot_future_forecast(future_forecast)  # if you're returning both results\n"
   ]
  },
  {
   "cell_type": "code",
   "execution_count": null,
   "id": "fea06ab1",
   "metadata": {},
   "outputs": [],
   "source": [
    "if forecast_results is not None:\n",
    "    plot_forecast(forecast_results)\n",
    "\n"
   ]
  },
  {
   "cell_type": "code",
   "execution_count": null,
   "id": "424fd6e6",
   "metadata": {},
   "outputs": [],
   "source": [
    "# === 6. Historical Comparison (Example) ===\n",
    "comparison = compare_historical_sentiment(\n",
    "    base_date=start_date_str,\n",
    "    comparison_date=end_date_str,\n",
    "    sentiment_df=aggregated_sentiment,\n",
    "    price_df=price_data\n",
    ")\n",
    "print(\"\\nHistorical Comparison:\")\n",
    "print(comparison)"
   ]
  },
  {
   "cell_type": "code",
   "execution_count": null,
   "id": "e9c753ed",
   "metadata": {},
   "outputs": [],
   "source": [
    "future = future_forecast.copy()\n",
    "future['price'] = future['predicted_price']\n",
    "future['source'] = 'Forecast'\n",
    "\n",
    "historical = merged_data[['date', 'close_price']].copy()\n",
    "historical['price'] = historical['close_price']\n",
    "historical['source'] = 'Historical'\n",
    "\n",
    "trend_df = pd.concat([historical[['date', 'price', 'source']], future[['date', 'price', 'source']]])\n",
    "\n",
    "# plot it\n",
    "import seaborn as sns\n",
    "plt.figure(figsize=(12, 5))\n",
    "sns.lineplot(data=trend_df, x='date', y='price', hue='source')\n",
    "plt.title('Bitcoin Historical and Forecasted Prices')\n",
    "plt.ylabel('Price (USD)')\n",
    "plt.xticks(rotation=45)\n",
    "plt.grid(True)\n",
    "plt.tight_layout()\n",
    "plt.show()"
   ]
  },
  {
   "cell_type": "code",
   "execution_count": null,
   "id": "c2b57eab",
   "metadata": {},
   "outputs": [],
   "source": [
    "trend_df"
   ]
  },
  {
   "cell_type": "code",
   "execution_count": null,
   "id": "115a8a44",
   "metadata": {},
   "outputs": [],
   "source": [
    "from src.models import run_auto_arima_forecast, run_lstm_forecast\n",
    "\n",
    "# auto_arima_forecast = run_auto_arima_forecast(merged_data, forecast_hours=(24*7))\n",
    "# lstm_forecast = run_lstm_forecast(merged_data, forecast_hours=(24*7), sequence_length=(24*7))\n",
    "\n",
    "\n",
    "auto_arima_future, auto_arima_forecast = run_auto_arima_forecast(merged_data, forecast_hours=24*3)\n",
    "lstm_future, lstm_forecast = run_lstm_forecast(merged_data, forecast_hours=24*3, sequence_length=24)"
   ]
  },
  {
   "cell_type": "code",
   "execution_count": null,
   "id": "0ead321c",
   "metadata": {},
   "outputs": [],
   "source": [
    "plt.figure(figsize=(10,5))\n",
    "plt.plot(auto_arima_forecast['date'], auto_arima_forecast['predicted_price'], label='Auto ARIMA')\n",
    "plt.plot(lstm_forecast['date'], lstm_forecast['predicted_price'], label='LSTM')\n",
    "plt.legend()\n",
    "plt.title('Bitcoin Price Forecast: Auto ARIMA vs LSTM')\n",
    "plt.xlabel('Date')\n",
    "plt.ylabel('Predicted Price (USD)')\n",
    "plt.xticks(rotation=45)\n",
    "plt.tight_layout()\n",
    "plt.show()"
   ]
  },
  {
   "cell_type": "code",
   "execution_count": null,
   "id": "8f1253bc",
   "metadata": {},
   "outputs": [],
   "source": [
    "plt.figure(figsize=(10,5))\n",
    "plt.plot(auto_arima_forecast['date'], auto_arima_forecast['predicted_price'], label='Auto ARIMA')\n",
    "plt.plot(auto_arima_future['date'], auto_arima_future['predicted_price'], label='Auto ARIMA (Future)')\n",
    "plt.plot(lstm_forecast['date'], lstm_forecast['predicted_price'], label='LSTM')\n",
    "plt.plot(lstm_future['date'], lstm_future['predicted_price'], label='LSTM (Future)')\n",
    "plt.plot(forecast_results['date'], forecast_results['predicted_price'], label='ARIMA')\n",
    "plt.plot(future_forecast['date'], future_forecast['predicted_price'], label='ARIMA (Future)')\n",
    "plt.legend()\n",
    "plt.title('Bitcoin Price Forecast: Auto ARIMA vs LSTM')\n",
    "plt.xlabel('Date')\n",
    "plt.ylabel('Predicted Price (USD)')\n",
    "plt.xticks(rotation=45)\n",
    "plt.tight_layout()\n",
    "plt.show()"
   ]
  },
  {
   "cell_type": "code",
   "execution_count": null,
   "id": "452d61b4",
   "metadata": {},
   "outputs": [],
   "source": [
    "if auto_arima_forecast is not None:\n",
    "    plot_forecast(auto_arima_future)"
   ]
  },
  {
   "cell_type": "code",
   "execution_count": null,
   "id": "6c630ffc",
   "metadata": {},
   "outputs": [],
   "source": [
    "if lstm_future is not None:\n",
    "    plot_forecast(lstm_future)"
   ]
  },
  {
   "cell_type": "code",
   "execution_count": null,
   "id": "95ddd84e",
   "metadata": {},
   "outputs": [],
   "source": [
    "display(auto_arima_forecast)"
   ]
  },
  {
   "cell_type": "code",
   "execution_count": null,
   "id": "6c83dc9b",
   "metadata": {},
   "outputs": [],
   "source": [
    "auto_arima_forecast_future = auto_arima_forecast.copy()\n",
    "auto_arima_forecast_future['price'] = auto_arima_forecast_future['predicted_price']\n",
    "auto_arima_forecast_future['source'] = 'Forecast'\n",
    "\n",
    "auto_arima_forecast_historical = merged_data[['date', 'close_price']].copy()\n",
    "auto_arima_forecast_historical['price'] = auto_arima_forecast_historical['close_price']\n",
    "auto_arima_forecast_historical['source'] = 'Historical'\n",
    "\n",
    "trend_df = pd.concat([auto_arima_forecast_historical[['date', 'price', 'source']], auto_arima_forecast_future[['date', 'price', 'source']]])\n",
    "\n",
    "# plot it\n",
    "import seaborn as sns\n",
    "plt.figure(figsize=(12, 5))\n",
    "sns.lineplot(data=trend_df, x='date', y='price', hue='source')\n",
    "plt.title('Bitcoin Historical and Forecasted Prices')\n",
    "plt.ylabel('Price (USD)')\n",
    "plt.xticks(rotation=45)\n",
    "plt.grid(True)\n",
    "plt.tight_layout()\n",
    "plt.show()"
   ]
  },
  {
   "cell_type": "code",
   "execution_count": null,
   "id": "abc06963",
   "metadata": {},
   "outputs": [],
   "source": [
    "display(lstm_forecast)"
   ]
  },
  {
   "cell_type": "code",
   "execution_count": null,
   "id": "363fd17b",
   "metadata": {},
   "outputs": [],
   "source": [
    "lstm_forecast_future = lstm_forecast.copy()\n",
    "lstm_forecast_future['price'] = lstm_forecast_future['predicted_price']\n",
    "lstm_forecast_future['source'] = 'Forecast'\n",
    "\n",
    "lstm_forecast_historical = merged_data[['date', 'close_price']].copy()\n",
    "lstm_forecast_historical['price'] = lstm_forecast_historical['close_price']\n",
    "lstm_forecast_historical['source'] = 'Historical'\n",
    "\n",
    "trend_df = pd.concat([lstm_forecast_historical[['date', 'price', 'source']], lstm_forecast_future[['date', 'price', 'source']]])\n",
    "\n",
    "# plot it\n",
    "plt.figure(figsize=(12, 5))\n",
    "\n",
    "sns.lineplot(data=trend_df, x='date', y='price', hue='source')\n",
    "plt.title('Bitcoin Historical and Forecasted Prices')\n",
    "plt.ylabel('Price (USD)')\n",
    "plt.xticks(rotation=45)\n",
    "plt.grid(True)\n",
    "plt.tight_layout()\n",
    "plt.show()"
   ]
  },
  {
   "cell_type": "code",
   "execution_count": null,
   "id": "293b78b1",
   "metadata": {},
   "outputs": [],
   "source": []
  },
  {
   "cell_type": "code",
   "execution_count": null,
   "id": "9dbb2992",
   "metadata": {},
   "outputs": [],
   "source": []
  }
 ],
 "metadata": {
  "kernelspec": {
   "display_name": "Python 3 (ipykernel)",
   "language": "python",
   "name": "python3"
  },
  "language_info": {
   "codemirror_mode": {
    "name": "ipython",
    "version": 3
   },
   "file_extension": ".py",
   "mimetype": "text/x-python",
   "name": "python",
   "nbconvert_exporter": "python",
   "pygments_lexer": "ipython3",
   "version": "3.11.12"
  }
 },
 "nbformat": 4,
 "nbformat_minor": 5
}
